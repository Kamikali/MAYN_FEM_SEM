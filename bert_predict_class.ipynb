{
 "cells": [
  {
   "cell_type": "code",
   "execution_count": 14,
   "metadata": {},
   "outputs": [],
   "source": [
    "from data.dicts import DICTS\n",
    "from nltk.stem import WordNetLemmatizer\n",
    "from transformers import pipeline\n",
    "import numpy as np"
   ]
  },
  {
   "cell_type": "code",
   "execution_count": 41,
   "metadata": {},
   "outputs": [],
   "source": [
    "# BERT maskierten satz geben\n",
    "def bert_predict(sentence):\n",
    "    model = pipeline('fill-mask', model='bert-base-uncased')\n",
    "    return model(sentence)\n",
    "\n",
    "# verb stemmen\n",
    "def get_verb_lemma(verb: str) -> str:\n",
    "    lemmatizer = WordNetLemmatizer()\n",
    "    return lemmatizer.lemmatize(verb, pos='v')\n",
    "\n",
    "# mit dicts vergleichen\n",
    "def predict_class(bert_predictions, class_dicts):\n",
    "    scores = []\n",
    "    score = 0\n",
    "    for d in class_dicts:\n",
    "        for prediction in bert_predictions:\n",
    "            try:\n",
    "                verb = get_verb_lemma(prediction['token_str'])\n",
    "                score += d[0][verb] * prediction['score']\n",
    "            except:\n",
    "                continue\n",
    "\n",
    "        scores.append((score))\n",
    "        score = 0\n",
    "    \n",
    "    # softmax and sort scores and add labels\n",
    "    softmaxed_scores = softmax(np.array(scores))\n",
    "    labeled_scores = []\n",
    "    for score, label in zip(softmaxed_scores, class_dicts):\n",
    "        labeled_scores.append([label[1], score])\n",
    "    labeled_scores = sorted(labeled_scores, key=lambda item: item[1], reverse=True)\n",
    "    return labeled_scores\n",
    "\n",
    "\n",
    "def softmax(x):\n",
    "    \"\"\"Compute softmax values for each sets of scores in x.\"\"\"\n",
    "    e_x = np.exp(x - np.max(x))\n",
    "    return e_x / e_x.sum(axis=0)"
   ]
  },
  {
   "cell_type": "code",
   "execution_count": 42,
   "metadata": {},
   "outputs": [
    {
     "name": "stderr",
     "output_type": "stream",
     "text": [
      "Some weights of the model checkpoint at bert-base-uncased were not used when initializing BertForMaskedLM: ['bert.pooler.dense.bias', 'bert.pooler.dense.weight', 'cls.seq_relationship.bias', 'cls.seq_relationship.weight']\n",
      "- This IS expected if you are initializing BertForMaskedLM from the checkpoint of a model trained on another task or with another architecture (e.g. initializing a BertForSequenceClassification model from a BertForPreTraining model).\n",
      "- This IS NOT expected if you are initializing BertForMaskedLM from the checkpoint of a model that you expect to be exactly identical (initializing a BertForSequenceClassification model from a BertForSequenceClassification model).\n"
     ]
    },
    {
     "name": "stdout",
     "output_type": "stream",
     "text": [
      "[['PP', 0.7866813436862404], ['CE', 0.056809240624320814], ['IA', 0.03209467244996376], ['MC', 0.024882948647895028], ['EO', 0.024882948647895028], ['CT', 0.024882948647895028], ['ED', 0.024882948647895028], ['CW', 0.024882948647895028]]\n"
     ]
    }
   ],
   "source": [
    "sentence = 'The second simulation was [MASK] from the uncomplexed x-ray structure after insertion of the ligand into the binding site.'\n",
    "pred = bert_predict(sentence)\n",
    "scores = predict_class(pred, DICTS)\n",
    "\n",
    "print(scores)"
   ]
  }
 ],
 "metadata": {
  "kernelspec": {
   "display_name": "Python 3",
   "language": "python",
   "name": "python3"
  },
  "language_info": {
   "codemirror_mode": {
    "name": "ipython",
    "version": 3
   },
   "file_extension": ".py",
   "mimetype": "text/x-python",
   "name": "python",
   "nbconvert_exporter": "python",
   "pygments_lexer": "ipython3",
   "version": "3.11.8"
  }
 },
 "nbformat": 4,
 "nbformat_minor": 2
}
