{
  "cells": [
    {
      "cell_type": "code",
      "execution_count": 1,
      "metadata": {
        "id": "qXQbAl7kTTRw"
      },
      "outputs": [
        {
          "ename": "ModuleNotFoundError",
          "evalue": "No module named 'pandas'",
          "output_type": "error",
          "traceback": [
            "\u001b[1;31m---------------------------------------------------------------------------\u001b[0m",
            "\u001b[1;31mModuleNotFoundError\u001b[0m                       Traceback (most recent call last)",
            "Cell \u001b[1;32mIn[1], line 1\u001b[0m\n\u001b[1;32m----> 1\u001b[0m \u001b[38;5;28;01mimport\u001b[39;00m \u001b[38;5;21;01mpandas\u001b[39;00m \u001b[38;5;28;01mas\u001b[39;00m \u001b[38;5;21;01mpd\u001b[39;00m\n\u001b[0;32m      2\u001b[0m \u001b[38;5;28;01mimport\u001b[39;00m \u001b[38;5;21;01mnumpy\u001b[39;00m \u001b[38;5;28;01mas\u001b[39;00m \u001b[38;5;21;01mnp\u001b[39;00m\n\u001b[0;32m      3\u001b[0m \u001b[38;5;28;01mimport\u001b[39;00m \u001b[38;5;21;01mtensorflow\u001b[39;00m \u001b[38;5;28;01mas\u001b[39;00m \u001b[38;5;21;01mtf\u001b[39;00m\n",
            "\u001b[1;31mModuleNotFoundError\u001b[0m: No module named 'pandas'"
          ]
        }
      ],
      "source": [
        "import pandas as pd\n",
        "import numpy as np\n",
        "import tensorflow as tf\n",
        "import tensorflow_hub as hub\n",
        "import re"
      ]
    },
    {
      "cell_type": "markdown",
      "metadata": {
        "id": "6P-R5thHUmxV"
      },
      "source": [
        "**Read semeval train data and create pandas dataframe**\n",
        "\n"
      ]
    },
    {
      "cell_type": "code",
      "execution_count": 22,
      "metadata": {
        "id": "U2wcIVAzTjO5"
      },
      "outputs": [],
      "source": [
        "# klassenlabel in zahlen umwandeln\n",
        "def get_int_class(long_class: str, allow_other: bool = False) -> int:\n",
        "    if long_class == 'Component-Whole(e2,e1)' or long_class == 'Component-Whole(e1,e2)':\n",
        "        return 0\n",
        "    if long_class == 'Instrument-Agency(e2,e1)' or long_class == 'Instrument-Agency(e1  ,e2)':\n",
        "        return 1\n",
        "    if long_class == 'Member-Collection(e1,e2)' or long_class == 'Member-Collection(e2,e1)':\n",
        "        return 2\n",
        "    if long_class == 'Cause-Effect(e2,e1)' or long_class == 'Cause-Effect(e1,e2)':\n",
        "        return 3\n",
        "    if long_class == 'Entity-Destination(e2,e1)' or long_class == 'Entity-Destination(e1,e2)':\n",
        "        return 4\n",
        "    if long_class == 'Content-Container(e2,e1)' or long_class == 'Content-Container(e1,e2)':\n",
        "        return 5\n",
        "    if long_class == 'Message-Topic(e2,e1)' or long_class == 'Message-Topic(e1,e2)':\n",
        "        return 6\n",
        "    if long_class == 'Product-Producer(e2,e1)' or long_class == 'Product-Producer(e1,e2)':\n",
        "        return 7\n",
        "    if long_class == 'Entity-Origin(e2,e1)' or long_class == 'Entity-Origin(e1,e2)':\n",
        "        return 8\n",
        "    if long_class == 'Other':\n",
        "        if allow_other:\n",
        "          return 9\n",
        "\n",
        "def purify_sentence(sentence: str) -> str:\n",
        "  return re.sub(r\"</?e[12]>\", \"\", sentence)\n",
        "\n",
        "semeval_tuples = list()\n",
        "temp_tuple = dict()\n",
        "\n",
        "with open('../../../data/semeval/training/TRAIN_FILE.TXT', 'r') as file:\n",
        "    for index, line in enumerate(file.readlines()):\n",
        "      # unser dokument ist in 4 zeilen aufgeteilt\n",
        "      if index % 4 == 0:\n",
        "        regex_results = re.search(r\"\\\"(.*)\\\"\", line.strip())\n",
        "        if regex_results:\n",
        "          sentence = regex_results.group(1)\n",
        "          temp_tuple['sentence'] = purify_sentence(sentence)\n",
        "      if index % 4 == 1:\n",
        "        temp_tuple['label'] = get_int_class(line.strip(), allow_other=False)\n",
        "      if index % 4 == 2:\n",
        "        semeval_tuples.append(temp_tuple)\n",
        "        temp_tuple = dict()\n",
        "\n",
        "df = pd.DataFrame(semeval_tuples)\n",
        "df = df.dropna()"
      ]
    },
    {
      "cell_type": "code",
      "execution_count": 23,
      "metadata": {
        "colab": {
          "base_uri": "https://localhost:8080/",
          "height": 206
        },
        "id": "PwiADR_OBMLy",
        "outputId": "f2254ec2-2155-4ae1-f421-834dd5dd9183"
      },
      "outputs": [
        {
          "data": {
            "text/html": [
              "<div>\n",
              "<style scoped>\n",
              "    .dataframe tbody tr th:only-of-type {\n",
              "        vertical-align: middle;\n",
              "    }\n",
              "\n",
              "    .dataframe tbody tr th {\n",
              "        vertical-align: top;\n",
              "    }\n",
              "\n",
              "    .dataframe thead th {\n",
              "        text-align: right;\n",
              "    }\n",
              "</style>\n",
              "<table border=\"1\" class=\"dataframe\">\n",
              "  <thead>\n",
              "    <tr style=\"text-align: right;\">\n",
              "      <th></th>\n",
              "      <th>sentence</th>\n",
              "      <th>label</th>\n",
              "    </tr>\n",
              "  </thead>\n",
              "  <tbody>\n",
              "    <tr>\n",
              "      <th>0</th>\n",
              "      <td>The system as described above has its greatest...</td>\n",
              "      <td>0.0</td>\n",
              "    </tr>\n",
              "    <tr>\n",
              "      <th>2</th>\n",
              "      <td>The author of a keygen uses a disassembler to ...</td>\n",
              "      <td>1.0</td>\n",
              "    </tr>\n",
              "    <tr>\n",
              "      <th>4</th>\n",
              "      <td>The student association is the voice of the un...</td>\n",
              "      <td>2.0</td>\n",
              "    </tr>\n",
              "    <tr>\n",
              "      <th>6</th>\n",
              "      <td>The current view is that the chronic inflammat...</td>\n",
              "      <td>3.0</td>\n",
              "    </tr>\n",
              "    <tr>\n",
              "      <th>7</th>\n",
              "      <td>People have been moving back into downtown.</td>\n",
              "      <td>4.0</td>\n",
              "    </tr>\n",
              "  </tbody>\n",
              "</table>\n",
              "</div>"
            ],
            "text/plain": [
              "                                            sentence  label\n",
              "0  The system as described above has its greatest...    0.0\n",
              "2  The author of a keygen uses a disassembler to ...    1.0\n",
              "4  The student association is the voice of the un...    2.0\n",
              "6  The current view is that the chronic inflammat...    3.0\n",
              "7        People have been moving back into downtown.    4.0"
            ]
          },
          "execution_count": 23,
          "metadata": {},
          "output_type": "execute_result"
        }
      ],
      "source": [
        "df.head()"
      ]
    },
    {
      "cell_type": "code",
      "execution_count": null,
      "metadata": {
        "id": "GHHtjyp6XPm3"
      },
      "outputs": [],
      "source": [
        "# wir machen ein 60 / 20 / 20 split für das training, die validation and das testen der daten\n",
        "train, val, test = np.split(df.sample(frac=1), [(int(0.6 * len(df))), (int(0.8 * len(df)))])"
      ]
    },
    {
      "cell_type": "code",
      "execution_count": null,
      "metadata": {
        "id": "yLO1T5hd_yvr"
      },
      "outputs": [],
      "source": [
        "# funktion um von pandas dataframe zu tensorflow dataset zu konvertieren\n",
        "def df_to_dataset(dataframe, shuffle=False, batch_size=32):\n",
        "  df = dataframe.copy()\n",
        "  labels = df.pop('label')\n",
        "  # konvertiere die labels zu one-hot encoding\n",
        "  labels = tf.one_hot(labels, depth=9)\n",
        "  df = df['sentence']\n",
        "  ds = tf.data.Dataset.from_tensor_slices((df, labels))\n",
        "  if shuffle:\n",
        "    ds = ds.shuffle(buffer_size=len(dataframe))\n",
        "  ds = ds.batch(batch_size)\n",
        "  ds = ds.prefetch(tf.data.AUTOTUNE)\n",
        "  return ds"
      ]
    },
    {
      "cell_type": "code",
      "execution_count": null,
      "metadata": {
        "id": "DI-6X-l6BfUR"
      },
      "outputs": [],
      "source": [
        "train_data = df_to_dataset(train)\n",
        "valid_data = df_to_dataset(val)\n",
        "test_data = df_to_dataset(test)"
      ]
    },
    {
      "cell_type": "markdown",
      "metadata": {
        "id": "6cltNp70DLJ6"
      },
      "source": [
        "#### Model and embeddings"
      ]
    },
    {
      "cell_type": "code",
      "execution_count": null,
      "metadata": {
        "id": "QtYT29ptB5Iz"
      },
      "outputs": [],
      "source": [
        "# wir benutzen embedder trainiert auf ein 7B wort korpus\n",
        "embedding = 'https://tfhub.dev/google/nnlm-en-dim50/2'\n",
        "hub_layer = hub.KerasLayer(embedding, dtype=tf.string, trainable=True)"
      ]
    },
    {
      "cell_type": "code",
      "execution_count": null,
      "metadata": {
        "id": "9zkFCb50GB5i"
      },
      "outputs": [],
      "source": [
        "model = tf.keras.Sequential()\n",
        "model.add(hub_layer)\n",
        "model.add(tf.keras.layers.Dense(16, activation='relu'))\n",
        "model.add(tf.keras.layers.Dense(16, activation='relu'))\n",
        "model.add(tf.keras.layers.Dense(9, activation='softmax'))"
      ]
    },
    {
      "cell_type": "code",
      "execution_count": null,
      "metadata": {
        "id": "BlfqAQsvKEEv"
      },
      "outputs": [],
      "source": [
        "model.compile(optimizer=tf.keras.optimizers.Adam(learning_rate=0.001),\n",
        "              loss=tf.keras.losses.CategoricalCrossentropy(),\n",
        "              metrics=['accuracy'])"
      ]
    },
    {
      "cell_type": "code",
      "execution_count": null,
      "metadata": {
        "colab": {
          "base_uri": "https://localhost:8080/"
        },
        "id": "g7cK2P6gKT_X",
        "outputId": "e8838c2c-384a-4b46-cc5d-8dab80f3ee07"
      },
      "outputs": [],
      "source": [
        "model.evaluate(valid_data)"
      ]
    },
    {
      "cell_type": "code",
      "execution_count": null,
      "metadata": {
        "colab": {
          "base_uri": "https://localhost:8080/"
        },
        "id": "OJVd15O_Kjov",
        "outputId": "86b27ab6-76e8-48a8-9267-6628a98ea387"
      },
      "outputs": [],
      "source": [
        "history = model.fit(train_data, epochs=4, validation_data=valid_data)"
      ]
    },
    {
      "cell_type": "markdown",
      "metadata": {
        "id": "7YPin--ck-Sb"
      },
      "source": [
        "Moodel performance:"
      ]
    },
    {
      "cell_type": "code",
      "execution_count": null,
      "metadata": {
        "colab": {
          "base_uri": "https://localhost:8080/"
        },
        "id": "7d7sE3wXRwns",
        "outputId": "065dfae1-30c5-4741-ab37-fbaa3fd5cc88"
      },
      "outputs": [],
      "source": [
        "model.evaluate(test_data)"
      ]
    },
    {
      "cell_type": "code",
      "execution_count": null,
      "metadata": {
        "colab": {
          "base_uri": "https://localhost:8080/"
        },
        "id": "dk1nys61hTb6",
        "outputId": "0cd938df-e49f-43e0-d003-f966cb675c38"
      },
      "outputs": [],
      "source": [
        "preds = model.predict(test_data)"
      ]
    },
    {
      "cell_type": "markdown",
      "metadata": {
        "id": "sfthBfLxvfFr"
      },
      "source": [
        "Resultate als CSV Datei für die Veranschaulichung"
      ]
    },
    {
      "cell_type": "code",
      "execution_count": null,
      "metadata": {
        "id": "FFJlnje1hx1X"
      },
      "outputs": [],
      "source": [
        "y = np.concatenate([y for x, y in test_data], axis=0)"
      ]
    },
    {
      "cell_type": "code",
      "execution_count": null,
      "metadata": {
        "id": "Jf4SuJOLj_q7"
      },
      "outputs": [],
      "source": [
        "gold_labels = []\n",
        "for _, batch in test_data:\n",
        "  for y in batch:\n",
        "    gold_labels.append(np.argmax(y))\n",
        "\n",
        "predictions = []\n",
        "for _ in preds:\n",
        "  predictions.append(np.argmax(_))"
      ]
    },
    {
      "cell_type": "code",
      "execution_count": null,
      "metadata": {
        "id": "JaD2EBknvEG0"
      },
      "outputs": [],
      "source": [
        "def get_short_name(label: int) -> str:\n",
        "    if label == 0:\n",
        "        return 'CW'\n",
        "    if label == 1:\n",
        "        return 'IA'\n",
        "    if label == 2:\n",
        "        return 'MC'\n",
        "    if label == 3:\n",
        "        return 'CE'\n",
        "    if label == 4:\n",
        "        return 'ED'\n",
        "    if label == 5:\n",
        "        return 'CC'\n",
        "    if label == 6:\n",
        "        return 'MT'\n",
        "    if label == 7:\n",
        "        return 'PP'\n",
        "    if label == 8:\n",
        "        return 'EO'"
      ]
    },
    {
      "cell_type": "code",
      "execution_count": null,
      "metadata": {
        "id": "3TTU9mspxNkr"
      },
      "outputs": [],
      "source": [
        "with open('results.csv', 'a') as f:\n",
        "  for index, (gold, pred) in enumerate(zip(gold_labels, predictions)):\n",
        "    f.write(f\"{index},{get_short_name(gold)},{get_short_name(pred)}\\n\")"
      ]
    }
  ],
  "metadata": {
    "colab": {
      "provenance": []
    },
    "kernelspec": {
      "display_name": "Python 3",
      "name": "python3"
    },
    "language_info": {
      "codemirror_mode": {
        "name": "ipython",
        "version": 3
      },
      "file_extension": ".py",
      "mimetype": "text/x-python",
      "name": "python",
      "nbconvert_exporter": "python",
      "pygments_lexer": "ipython3",
      "version": "3.12.2"
    }
  },
  "nbformat": 4,
  "nbformat_minor": 0
}
