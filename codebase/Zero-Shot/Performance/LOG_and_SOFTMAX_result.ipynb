{
 "cells": [
  {
   "cell_type": "code",
   "execution_count": null,
   "metadata": {},
   "outputs": [],
   "source": [
    "import re\n",
    "import bert_predict_class\n",
    "import softmax_and_log_dicts"
   ]
  },
  {
   "cell_type": "markdown",
   "metadata": {},
   "source": [
    "Vorhersage testen"
   ]
  },
  {
   "cell_type": "code",
   "execution_count": null,
   "metadata": {},
   "outputs": [],
   "source": [
    "sentence = 'The author of a keygen [MASK] a disassembler to look at the raw assembly code.'\n",
    "pred = bert_predict_class.bert_predict(sentence)\n",
    "scores = bert_predict_class.predict_class(pred, softmax_and_log_dicts.LOG_DICTS)\n",
    "print(pred)\n",
    "print(scores)"
   ]
  },
  {
   "cell_type": "code",
   "execution_count": 62,
   "metadata": {},
   "outputs": [],
   "source": [
    "def get_short_class(long_class: str) -> str:\n",
    "    if long_class == 'Component-Whole(e2,e1)' or long_class == 'Component-Whole(e1,e2)':\n",
    "        return 'CW'\n",
    "    if long_class == 'Instrument-Agency(e2,e1)' or long_class == 'Instrument-Agency(e1  ,e2)':\n",
    "        return 'IA'\n",
    "    if long_class == 'Member-Collection(e1,e2)' or long_class == 'Member-Collection(e2,e1)':\n",
    "        return 'MC'\n",
    "    if long_class == 'Cause-Effect(e2,e1)' or long_class == 'Cause-Effect(e1,e2)':\n",
    "        return 'CE'\n",
    "    if long_class == 'Entity-Destination(e2,e1)' or long_class == 'Entity-Destination(e1,e2)':\n",
    "        return 'ED'\n",
    "    if long_class == 'Content-Container(e2,e1)' or long_class == 'Content-Container(e1,e2)':\n",
    "        return 'CC'\n",
    "    if long_class == 'Message-Topic(e2,e1)' or long_class == 'Message-Topic(e1,e2)':\n",
    "        return 'MT'\n",
    "    if long_class == 'Product-Producer(e2,e1)' or long_class == 'Product-Producer(e1,e2)':\n",
    "        return 'PP'\n",
    "    if long_class == 'Entity-Origin(e2,e1)' or long_class == 'Entity-Origin(e1,e2)':\n",
    "        return 'EO'"
   ]
  },
  {
   "cell_type": "markdown",
   "metadata": {},
   "source": [
    "#### Klassennamen Decoder\n",
    "Convertiert Klassennamen zu zwei Buchstaben"
   ]
  },
  {
   "cell_type": "code",
   "execution_count": null,
   "metadata": {},
   "outputs": [],
   "source": [
    "with open('test_sentences.txt', 'r') as file:\n",
    "    lines = file.readlines()\n",
    "\n",
    "START_AT_SENTENCE_INDEX = 3299\n",
    "\n",
    "for index, line in enumerate(lines):\n",
    "    \n",
    "    # Zeilen mit maskiertem Satz\n",
    "    if index % 5 == 1:\n",
    "        # lasse Klasse mit 'other' aus\n",
    "        sentence = line\n",
    "        sentence_number = line.split('\\t')[0]\n",
    "\n",
    "    # Zeile mit Label\n",
    "    if index % 5 == 2:\n",
    "        y = get_short_class(line.strip())\n",
    "\n",
    "    # Vorhersage (bei Kommentarzeile)\n",
    "    if index % 5 == 3:\n",
    "        # skip Klasse: Other\n",
    "        if y == None:\n",
    "            continue\n",
    "        # skip Satz wenn keine Mask-Token gefunden wurden\n",
    "        if not re.search(r\"\\[MASK\\]\", sentence):\n",
    "            continue\n",
    "        # skip bis zum gewünschten Satz\n",
    "        if int(sentence_number) < START_AT_SENTENCE_INDEX:\n",
    "            continue\n",
    "        pred = bert_predict_class.bert_predict(sentence)\n",
    "        scores = bert_predict_class.predict_class(pred, softmax_and_log_dicts.LOG_DICTS)\n",
    "\n",
    "        with open('zero_shot_results_LOG.csv', 'a') as results:\n",
    "            results.write(f\"{sentence_number},{y},{scores[0][0]} \\n\")"
   ]
  },
  {
   "cell_type": "markdown",
   "metadata": {},
   "source": [
    "Resultate evaluieren"
   ]
  },
  {
   "cell_type": "code",
   "execution_count": 12,
   "metadata": {},
   "outputs": [
    {
     "name": "stdout",
     "output_type": "stream",
     "text": [
      "Count: 4821\n",
      "Davon korrekt: 1669\n",
      "0.34619373573947315\n"
     ]
    }
   ],
   "source": [
    "with open('zero_shot_results_LOG_DICTS.csv', 'r') as csv:\n",
    "    lines = csv.readlines()\n",
    "\n",
    "\n",
    "\n",
    "    count = 0\n",
    "    correct_count = 0\n",
    "    for line in lines:\n",
    "\n",
    "       #ersetze CT mit MT\n",
    "        line = line.replace(\"CT\", \"MT\")\n",
    "\n",
    "        line = line.split(',')\n",
    "        count += 1\n",
    "        line[2] = line[2][:2]\n",
    "        if line[1] == line[2]:\n",
    "            correct_count += 1\n",
    "\n",
    "print(f\"Count: {count}\")\n",
    "print(f\"Davon korrekt: {correct_count}\")\n",
    "print(correct_count / count)"
   ]
  }
 ],
 "metadata": {
  "kernelspec": {
   "display_name": "Python 3",
   "language": "python",
   "name": "python3"
  },
  "language_info": {
   "codemirror_mode": {
    "name": "ipython",
    "version": 3
   },
   "file_extension": ".py",
   "mimetype": "text/x-python",
   "name": "python",
   "nbconvert_exporter": "python",
   "pygments_lexer": "ipython3",
   "version": "3.10.8"
  }
 },
 "nbformat": 4,
 "nbformat_minor": 2
}
