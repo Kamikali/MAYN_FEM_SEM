{
  "nbformat": 4,
  "nbformat_minor": 0,
  "metadata": {
    "colab": {
      "provenance": []
    },
    "kernelspec": {
      "name": "python3",
      "display_name": "Python 3"
    },
    "language_info": {
      "name": "python"
    }
  },
  "cells": [
    {
      "cell_type": "code",
      "execution_count": 81,
      "metadata": {
        "id": "qXQbAl7kTTRw"
      },
      "outputs": [],
      "source": [
        "import pandas as pd\n",
        "import numpy as np\n",
        "import tensorflow as tf\n",
        "import tensorflow_hub as hub\n",
        "import re"
      ]
    },
    {
      "cell_type": "markdown",
      "source": [
        "**Read semeval train data and create pandas dataframe**\n",
        "\n"
      ],
      "metadata": {
        "id": "6P-R5thHUmxV"
      }
    },
    {
      "cell_type": "code",
      "source": [
        "# first, we create a function that turns our class labels, which are string,\n",
        "# into integers, so we can later use hot end encoding\n",
        "def get_int_class(long_class: str, allow_other: bool = False) -> int:\n",
        "    if long_class == 'Component-Whole(e2,e1)' or long_class == 'Component-Whole(e1,e2)':\n",
        "        return 0\n",
        "    if long_class == 'Instrument-Agency(e2,e1)' or long_class == 'Instrument-Agency(e1  ,e2)':\n",
        "        return 1\n",
        "    if long_class == 'Member-Collection(e1,e2)' or long_class == 'Member-Collection(e2,e1)':\n",
        "        return 2\n",
        "    if long_class == 'Cause-Effect(e2,e1)' or long_class == 'Cause-Effect(e1,e2)':\n",
        "        return 3\n",
        "    if long_class == 'Entity-Destination(e2,e1)' or long_class == 'Entity-Destination(e1,e2)':\n",
        "        return 4\n",
        "    if long_class == 'Content-Container(e2,e1)' or long_class == 'Content-Container(e1,e2)':\n",
        "        return 5\n",
        "    if long_class == 'Message-Topic(e2,e1)' or long_class == 'Message-Topic(e1,e2)':\n",
        "        return 6\n",
        "    if long_class == 'Product-Producer(e2,e1)' or long_class == 'Product-Producer(e1,e2)':\n",
        "        return 7\n",
        "    if long_class == 'Entity-Origin(e2,e1)' or long_class == 'Entity-Origin(e1,e2)':\n",
        "        return 8\n",
        "    if long_class == 'Other':\n",
        "        if allow_other:\n",
        "          return 9\n",
        "\n",
        "semeval_tuples = list()\n",
        "temp_tuple = dict()\n",
        "with open('TRAIN_FILE.TXT', 'r') as file:\n",
        "    for index, line in enumerate(file.readlines()):\n",
        "      # the documents is structured in blocks of 4 lines each so we use % 4\n",
        "      if index % 4 == 0:\n",
        "        regex_results = re.search(r\"\\\"(.*)\\\"\", line.strip())\n",
        "        if regex_results:\n",
        "          temp_tuple['sentence'] = regex_results.group(1)\n",
        "      if index % 4 == 1:\n",
        "        temp_tuple['label'] = get_int_class(line.strip(), allow_other=False)\n",
        "      if index % 4 == 2:\n",
        "        semeval_tuples.append(temp_tuple)\n",
        "        temp_tuple = dict()\n",
        "\n",
        "df = pd.DataFrame(semeval_tuples)\n",
        "df = df.dropna()"
      ],
      "metadata": {
        "id": "U2wcIVAzTjO5"
      },
      "execution_count": 93,
      "outputs": []
    },
    {
      "cell_type": "code",
      "source": [
        "df.head()"
      ],
      "metadata": {
        "colab": {
          "base_uri": "https://localhost:8080/",
          "height": 206
        },
        "id": "PwiADR_OBMLy",
        "outputId": "cccb3277-566b-411f-9928-e20047d005f7"
      },
      "execution_count": 89,
      "outputs": [
        {
          "output_type": "execute_result",
          "data": {
            "text/plain": [
              "                                            sentence  \\\n",
              "0  The system as described above has its greatest...   \n",
              "2  The <e1>author</e1> of a keygen uses a <e2>dis...   \n",
              "4  The <e1>student</e1> <e2>association</e2> is t...   \n",
              "6  The current view is that the chronic <e1>infla...   \n",
              "7  <e1>People</e1> have been moving back into <e2...   \n",
              "\n",
              "                         label  \n",
              "0  [1, 0, 0, 0, 0, 0, 0, 0, 0]  \n",
              "2  [0, 1, 0, 0, 0, 0, 0, 0, 0]  \n",
              "4  [0, 0, 1, 0, 0, 0, 0, 0, 0]  \n",
              "6  [0, 0, 0, 1, 0, 0, 0, 0, 0]  \n",
              "7  [0, 0, 0, 0, 1, 0, 0, 0, 0]  "
            ],
            "text/html": [
              "\n",
              "  <div id=\"df-72a7ddbe-a5ca-4d06-a3af-c5ecd351e008\" class=\"colab-df-container\">\n",
              "    <div>\n",
              "<style scoped>\n",
              "    .dataframe tbody tr th:only-of-type {\n",
              "        vertical-align: middle;\n",
              "    }\n",
              "\n",
              "    .dataframe tbody tr th {\n",
              "        vertical-align: top;\n",
              "    }\n",
              "\n",
              "    .dataframe thead th {\n",
              "        text-align: right;\n",
              "    }\n",
              "</style>\n",
              "<table border=\"1\" class=\"dataframe\">\n",
              "  <thead>\n",
              "    <tr style=\"text-align: right;\">\n",
              "      <th></th>\n",
              "      <th>sentence</th>\n",
              "      <th>label</th>\n",
              "    </tr>\n",
              "  </thead>\n",
              "  <tbody>\n",
              "    <tr>\n",
              "      <th>0</th>\n",
              "      <td>The system as described above has its greatest...</td>\n",
              "      <td>[1, 0, 0, 0, 0, 0, 0, 0, 0]</td>\n",
              "    </tr>\n",
              "    <tr>\n",
              "      <th>2</th>\n",
              "      <td>The &lt;e1&gt;author&lt;/e1&gt; of a keygen uses a &lt;e2&gt;dis...</td>\n",
              "      <td>[0, 1, 0, 0, 0, 0, 0, 0, 0]</td>\n",
              "    </tr>\n",
              "    <tr>\n",
              "      <th>4</th>\n",
              "      <td>The &lt;e1&gt;student&lt;/e1&gt; &lt;e2&gt;association&lt;/e2&gt; is t...</td>\n",
              "      <td>[0, 0, 1, 0, 0, 0, 0, 0, 0]</td>\n",
              "    </tr>\n",
              "    <tr>\n",
              "      <th>6</th>\n",
              "      <td>The current view is that the chronic &lt;e1&gt;infla...</td>\n",
              "      <td>[0, 0, 0, 1, 0, 0, 0, 0, 0]</td>\n",
              "    </tr>\n",
              "    <tr>\n",
              "      <th>7</th>\n",
              "      <td>&lt;e1&gt;People&lt;/e1&gt; have been moving back into &lt;e2...</td>\n",
              "      <td>[0, 0, 0, 0, 1, 0, 0, 0, 0]</td>\n",
              "    </tr>\n",
              "  </tbody>\n",
              "</table>\n",
              "</div>\n",
              "    <div class=\"colab-df-buttons\">\n",
              "\n",
              "  <div class=\"colab-df-container\">\n",
              "    <button class=\"colab-df-convert\" onclick=\"convertToInteractive('df-72a7ddbe-a5ca-4d06-a3af-c5ecd351e008')\"\n",
              "            title=\"Convert this dataframe to an interactive table.\"\n",
              "            style=\"display:none;\">\n",
              "\n",
              "  <svg xmlns=\"http://www.w3.org/2000/svg\" height=\"24px\" viewBox=\"0 -960 960 960\">\n",
              "    <path d=\"M120-120v-720h720v720H120Zm60-500h600v-160H180v160Zm220 220h160v-160H400v160Zm0 220h160v-160H400v160ZM180-400h160v-160H180v160Zm440 0h160v-160H620v160ZM180-180h160v-160H180v160Zm440 0h160v-160H620v160Z\"/>\n",
              "  </svg>\n",
              "    </button>\n",
              "\n",
              "  <style>\n",
              "    .colab-df-container {\n",
              "      display:flex;\n",
              "      gap: 12px;\n",
              "    }\n",
              "\n",
              "    .colab-df-convert {\n",
              "      background-color: #E8F0FE;\n",
              "      border: none;\n",
              "      border-radius: 50%;\n",
              "      cursor: pointer;\n",
              "      display: none;\n",
              "      fill: #1967D2;\n",
              "      height: 32px;\n",
              "      padding: 0 0 0 0;\n",
              "      width: 32px;\n",
              "    }\n",
              "\n",
              "    .colab-df-convert:hover {\n",
              "      background-color: #E2EBFA;\n",
              "      box-shadow: 0px 1px 2px rgba(60, 64, 67, 0.3), 0px 1px 3px 1px rgba(60, 64, 67, 0.15);\n",
              "      fill: #174EA6;\n",
              "    }\n",
              "\n",
              "    .colab-df-buttons div {\n",
              "      margin-bottom: 4px;\n",
              "    }\n",
              "\n",
              "    [theme=dark] .colab-df-convert {\n",
              "      background-color: #3B4455;\n",
              "      fill: #D2E3FC;\n",
              "    }\n",
              "\n",
              "    [theme=dark] .colab-df-convert:hover {\n",
              "      background-color: #434B5C;\n",
              "      box-shadow: 0px 1px 3px 1px rgba(0, 0, 0, 0.15);\n",
              "      filter: drop-shadow(0px 1px 2px rgba(0, 0, 0, 0.3));\n",
              "      fill: #FFFFFF;\n",
              "    }\n",
              "  </style>\n",
              "\n",
              "    <script>\n",
              "      const buttonEl =\n",
              "        document.querySelector('#df-72a7ddbe-a5ca-4d06-a3af-c5ecd351e008 button.colab-df-convert');\n",
              "      buttonEl.style.display =\n",
              "        google.colab.kernel.accessAllowed ? 'block' : 'none';\n",
              "\n",
              "      async function convertToInteractive(key) {\n",
              "        const element = document.querySelector('#df-72a7ddbe-a5ca-4d06-a3af-c5ecd351e008');\n",
              "        const dataTable =\n",
              "          await google.colab.kernel.invokeFunction('convertToInteractive',\n",
              "                                                    [key], {});\n",
              "        if (!dataTable) return;\n",
              "\n",
              "        const docLinkHtml = 'Like what you see? Visit the ' +\n",
              "          '<a target=\"_blank\" href=https://colab.research.google.com/notebooks/data_table.ipynb>data table notebook</a>'\n",
              "          + ' to learn more about interactive tables.';\n",
              "        element.innerHTML = '';\n",
              "        dataTable['output_type'] = 'display_data';\n",
              "        await google.colab.output.renderOutput(dataTable, element);\n",
              "        const docLink = document.createElement('div');\n",
              "        docLink.innerHTML = docLinkHtml;\n",
              "        element.appendChild(docLink);\n",
              "      }\n",
              "    </script>\n",
              "  </div>\n",
              "\n",
              "\n",
              "<div id=\"df-c28a6aed-3eee-4c8a-96af-9c4df3ba15a6\">\n",
              "  <button class=\"colab-df-quickchart\" onclick=\"quickchart('df-c28a6aed-3eee-4c8a-96af-9c4df3ba15a6')\"\n",
              "            title=\"Suggest charts\"\n",
              "            style=\"display:none;\">\n",
              "\n",
              "<svg xmlns=\"http://www.w3.org/2000/svg\" height=\"24px\"viewBox=\"0 0 24 24\"\n",
              "     width=\"24px\">\n",
              "    <g>\n",
              "        <path d=\"M19 3H5c-1.1 0-2 .9-2 2v14c0 1.1.9 2 2 2h14c1.1 0 2-.9 2-2V5c0-1.1-.9-2-2-2zM9 17H7v-7h2v7zm4 0h-2V7h2v10zm4 0h-2v-4h2v4z\"/>\n",
              "    </g>\n",
              "</svg>\n",
              "  </button>\n",
              "\n",
              "<style>\n",
              "  .colab-df-quickchart {\n",
              "      --bg-color: #E8F0FE;\n",
              "      --fill-color: #1967D2;\n",
              "      --hover-bg-color: #E2EBFA;\n",
              "      --hover-fill-color: #174EA6;\n",
              "      --disabled-fill-color: #AAA;\n",
              "      --disabled-bg-color: #DDD;\n",
              "  }\n",
              "\n",
              "  [theme=dark] .colab-df-quickchart {\n",
              "      --bg-color: #3B4455;\n",
              "      --fill-color: #D2E3FC;\n",
              "      --hover-bg-color: #434B5C;\n",
              "      --hover-fill-color: #FFFFFF;\n",
              "      --disabled-bg-color: #3B4455;\n",
              "      --disabled-fill-color: #666;\n",
              "  }\n",
              "\n",
              "  .colab-df-quickchart {\n",
              "    background-color: var(--bg-color);\n",
              "    border: none;\n",
              "    border-radius: 50%;\n",
              "    cursor: pointer;\n",
              "    display: none;\n",
              "    fill: var(--fill-color);\n",
              "    height: 32px;\n",
              "    padding: 0;\n",
              "    width: 32px;\n",
              "  }\n",
              "\n",
              "  .colab-df-quickchart:hover {\n",
              "    background-color: var(--hover-bg-color);\n",
              "    box-shadow: 0 1px 2px rgba(60, 64, 67, 0.3), 0 1px 3px 1px rgba(60, 64, 67, 0.15);\n",
              "    fill: var(--button-hover-fill-color);\n",
              "  }\n",
              "\n",
              "  .colab-df-quickchart-complete:disabled,\n",
              "  .colab-df-quickchart-complete:disabled:hover {\n",
              "    background-color: var(--disabled-bg-color);\n",
              "    fill: var(--disabled-fill-color);\n",
              "    box-shadow: none;\n",
              "  }\n",
              "\n",
              "  .colab-df-spinner {\n",
              "    border: 2px solid var(--fill-color);\n",
              "    border-color: transparent;\n",
              "    border-bottom-color: var(--fill-color);\n",
              "    animation:\n",
              "      spin 1s steps(1) infinite;\n",
              "  }\n",
              "\n",
              "  @keyframes spin {\n",
              "    0% {\n",
              "      border-color: transparent;\n",
              "      border-bottom-color: var(--fill-color);\n",
              "      border-left-color: var(--fill-color);\n",
              "    }\n",
              "    20% {\n",
              "      border-color: transparent;\n",
              "      border-left-color: var(--fill-color);\n",
              "      border-top-color: var(--fill-color);\n",
              "    }\n",
              "    30% {\n",
              "      border-color: transparent;\n",
              "      border-left-color: var(--fill-color);\n",
              "      border-top-color: var(--fill-color);\n",
              "      border-right-color: var(--fill-color);\n",
              "    }\n",
              "    40% {\n",
              "      border-color: transparent;\n",
              "      border-right-color: var(--fill-color);\n",
              "      border-top-color: var(--fill-color);\n",
              "    }\n",
              "    60% {\n",
              "      border-color: transparent;\n",
              "      border-right-color: var(--fill-color);\n",
              "    }\n",
              "    80% {\n",
              "      border-color: transparent;\n",
              "      border-right-color: var(--fill-color);\n",
              "      border-bottom-color: var(--fill-color);\n",
              "    }\n",
              "    90% {\n",
              "      border-color: transparent;\n",
              "      border-bottom-color: var(--fill-color);\n",
              "    }\n",
              "  }\n",
              "</style>\n",
              "\n",
              "  <script>\n",
              "    async function quickchart(key) {\n",
              "      const quickchartButtonEl =\n",
              "        document.querySelector('#' + key + ' button');\n",
              "      quickchartButtonEl.disabled = true;  // To prevent multiple clicks.\n",
              "      quickchartButtonEl.classList.add('colab-df-spinner');\n",
              "      try {\n",
              "        const charts = await google.colab.kernel.invokeFunction(\n",
              "            'suggestCharts', [key], {});\n",
              "      } catch (error) {\n",
              "        console.error('Error during call to suggestCharts:', error);\n",
              "      }\n",
              "      quickchartButtonEl.classList.remove('colab-df-spinner');\n",
              "      quickchartButtonEl.classList.add('colab-df-quickchart-complete');\n",
              "    }\n",
              "    (() => {\n",
              "      let quickchartButtonEl =\n",
              "        document.querySelector('#df-c28a6aed-3eee-4c8a-96af-9c4df3ba15a6 button');\n",
              "      quickchartButtonEl.style.display =\n",
              "        google.colab.kernel.accessAllowed ? 'block' : 'none';\n",
              "    })();\n",
              "  </script>\n",
              "</div>\n",
              "    </div>\n",
              "  </div>\n"
            ],
            "application/vnd.google.colaboratory.intrinsic+json": {
              "type": "dataframe",
              "variable_name": "df",
              "summary": "{\n  \"name\": \"df\",\n  \"rows\": 6493,\n  \"fields\": [\n    {\n      \"column\": \"sentence\",\n      \"properties\": {\n        \"dtype\": \"string\",\n        \"num_unique_values\": 6493,\n        \"samples\": [\n          \"The teacher set up an activity where each time the <e1>dancer</e1> performed a tendu with a fully stretched <e2>foot</e2> she received a tag.\",\n          \"This water <e1>painting</e1> has been donated to a local art <e2>gallery</e2>.\",\n          \"It was a <e1>cloud</e1> of shrieking black <e2>bats</e2> that was attacking them.\"\n        ],\n        \"semantic_type\": \"\",\n        \"description\": \"\"\n      }\n    },\n    {\n      \"column\": \"label\",\n      \"properties\": {\n        \"dtype\": \"object\",\n        \"semantic_type\": \"\",\n        \"description\": \"\"\n      }\n    }\n  ]\n}"
            }
          },
          "metadata": {},
          "execution_count": 89
        }
      ]
    },
    {
      "cell_type": "code",
      "source": [
        "train, val, test = np.split(df.sample(frac=1), [(int(0.6 * len(df))), (int(0.8 * len(df)))])"
      ],
      "metadata": {
        "id": "GHHtjyp6XPm3"
      },
      "execution_count": 94,
      "outputs": []
    },
    {
      "cell_type": "code",
      "source": [
        "# function to convert pandas dataframe into tensorflow dataset\n",
        "def df_to_dataset(dataframe, shuffle=True, batch_size=32):\n",
        "  df = dataframe.copy()\n",
        "  labels = df.pop('label')\n",
        "  # Convert the labels to one-hot encoding\n",
        "  labels = tf.one_hot(labels, depth=9)\n",
        "  df = df['sentence']\n",
        "  ds = tf.data.Dataset.from_tensor_slices((df, labels))\n",
        "  if shuffle:\n",
        "    ds = ds.shuffle(buffer_size=len(dataframe))\n",
        "  ds = ds.batch(batch_size)\n",
        "  ds = ds.prefetch(tf.data.AUTOTUNE)\n",
        "  return ds"
      ],
      "metadata": {
        "id": "yLO1T5hd_yvr"
      },
      "execution_count": 98,
      "outputs": []
    },
    {
      "cell_type": "code",
      "source": [
        "train_data = df_to_dataset(train)\n",
        "valid_data = df_to_dataset(val)\n",
        "test_data = df_to_dataset(test)"
      ],
      "metadata": {
        "id": "DI-6X-l6BfUR"
      },
      "execution_count": 106,
      "outputs": []
    },
    {
      "cell_type": "markdown",
      "source": [
        "#### Model and embeddings"
      ],
      "metadata": {
        "id": "6cltNp70DLJ6"
      }
    },
    {
      "cell_type": "code",
      "source": [
        "# we use a embedder trained on a 7B word corpus\n",
        "embedding = 'https://tfhub.dev/google/nnlm-en-dim50/2'\n",
        "hub_layer = hub.KerasLayer(embedding, dtype=tf.string, trainable=True)"
      ],
      "metadata": {
        "id": "QtYT29ptB5Iz"
      },
      "execution_count": 100,
      "outputs": []
    },
    {
      "cell_type": "markdown",
      "source": [],
      "metadata": {
        "id": "UJ8QqEcYA5da"
      }
    },
    {
      "cell_type": "code",
      "source": [
        "model = tf.keras.Sequential()\n",
        "model.add(hub_layer)\n",
        "model.add(tf.keras.layers.Dense(16, activation='relu'))\n",
        "model.add(tf.keras.layers.Dense(16, activation='relu'))\n",
        "model.add(tf.keras.layers.Dense(9, activation='softmax'))"
      ],
      "metadata": {
        "id": "9zkFCb50GB5i"
      },
      "execution_count": 86,
      "outputs": []
    },
    {
      "cell_type": "code",
      "source": [
        "model.compile(optimizer=tf.keras.optimizers.Adam(learning_rate=0.001),\n",
        "              loss=tf.keras.losses.CategoricalCrossentropy(),\n",
        "              metrics=['accuracy'])"
      ],
      "metadata": {
        "id": "BlfqAQsvKEEv"
      },
      "execution_count": 103,
      "outputs": []
    },
    {
      "cell_type": "code",
      "source": [
        "model.evaluate(valid_data)"
      ],
      "metadata": {
        "colab": {
          "base_uri": "https://localhost:8080/"
        },
        "id": "g7cK2P6gKT_X",
        "outputId": "215428e8-30b8-4042-c6aa-be5116f1a313"
      },
      "execution_count": 107,
      "outputs": [
        {
          "output_type": "stream",
          "name": "stdout",
          "text": [
            "41/41 [==============================] - 0s 2ms/step - loss: 2.1916 - accuracy: 0.1440\n"
          ]
        },
        {
          "output_type": "execute_result",
          "data": {
            "text/plain": [
              "[2.191575765609741, 0.14395688474178314]"
            ]
          },
          "metadata": {},
          "execution_count": 107
        }
      ]
    },
    {
      "cell_type": "code",
      "source": [
        "history = model.fit(train_data, epochs=10, validation_data=valid_data)"
      ],
      "metadata": {
        "colab": {
          "base_uri": "https://localhost:8080/"
        },
        "id": "OJVd15O_Kjov",
        "outputId": "6a9e2edb-4f74-4d17-f937-e913e0d5137e"
      },
      "execution_count": 108,
      "outputs": [
        {
          "output_type": "stream",
          "name": "stdout",
          "text": [
            "Epoch 1/10\n",
            "122/122 [==============================] - 166s 1s/step - loss: 2.1294 - accuracy: 0.2021 - val_loss: 2.0532 - val_accuracy: 0.2564\n",
            "Epoch 2/10\n",
            "122/122 [==============================] - 163s 1s/step - loss: 1.8348 - accuracy: 0.3576 - val_loss: 1.6672 - val_accuracy: 0.4142\n",
            "Epoch 3/10\n",
            "122/122 [==============================] - 163s 1s/step - loss: 1.2242 - accuracy: 0.6046 - val_loss: 1.3988 - val_accuracy: 0.5319\n",
            "Epoch 4/10\n",
            "122/122 [==============================] - 163s 1s/step - loss: 0.6427 - accuracy: 0.8424 - val_loss: 1.3031 - val_accuracy: 0.5774\n",
            "Epoch 5/10\n",
            "122/122 [==============================] - 162s 1s/step - loss: 0.2789 - accuracy: 0.9525 - val_loss: 1.3765 - val_accuracy: 0.5666\n",
            "Epoch 6/10\n",
            "122/122 [==============================] - 159s 1s/step - loss: 0.1121 - accuracy: 0.9895 - val_loss: 1.4439 - val_accuracy: 0.5751\n",
            "Epoch 7/10\n",
            "122/122 [==============================] - 163s 1s/step - loss: 0.0490 - accuracy: 0.9967 - val_loss: 1.5432 - val_accuracy: 0.5751\n",
            "Epoch 8/10\n",
            "122/122 [==============================] - 163s 1s/step - loss: 0.0258 - accuracy: 0.9992 - val_loss: 1.5924 - val_accuracy: 0.5781\n",
            "Epoch 9/10\n",
            "122/122 [==============================] - 163s 1s/step - loss: 0.0155 - accuracy: 0.9997 - val_loss: 1.6375 - val_accuracy: 0.5820\n",
            "Epoch 10/10\n",
            "122/122 [==============================] - 163s 1s/step - loss: 0.0103 - accuracy: 1.0000 - val_loss: 1.6814 - val_accuracy: 0.5804\n"
          ]
        }
      ]
    },
    {
      "cell_type": "code",
      "source": [
        "model.evaluate(test_data)"
      ],
      "metadata": {
        "colab": {
          "base_uri": "https://localhost:8080/"
        },
        "id": "7d7sE3wXRwns",
        "outputId": "660c6e67-4ca0-422a-9bbb-0928fb3ba12d"
      },
      "execution_count": 109,
      "outputs": [
        {
          "output_type": "stream",
          "name": "stdout",
          "text": [
            "41/41 [==============================] - 8s 179ms/step - loss: 1.7259 - accuracy: 0.5651\n"
          ]
        },
        {
          "output_type": "execute_result",
          "data": {
            "text/plain": [
              "[1.7258697748184204, 0.5650500655174255]"
            ]
          },
          "metadata": {},
          "execution_count": 109
        }
      ]
    }
  ]
}