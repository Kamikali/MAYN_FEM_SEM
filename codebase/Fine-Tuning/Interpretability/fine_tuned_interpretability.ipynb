{
  "nbformat": 4,
  "nbformat_minor": 0,
  "metadata": {
    "colab": {
      "provenance": []
    },
    "kernelspec": {
      "name": "python3",
      "display_name": "Python 3"
    },
    "language_info": {
      "name": "python"
    }
  },
  "cells": [
    {
      "cell_type": "code",
      "execution_count": 24,
      "metadata": {
        "id": "qXQbAl7kTTRw"
      },
      "outputs": [],
      "source": [
        "import pandas as pd\n",
        "import numpy as np\n",
        "import tensorflow as tf\n",
        "import tensorflow_hub as hub\n",
        "import re"
      ]
    },
    {
      "cell_type": "markdown",
      "source": [
        "**Read semeval train data and create pandas dataframe**\n",
        "\n"
      ],
      "metadata": {
        "id": "6P-R5thHUmxV"
      }
    },
    {
      "cell_type": "code",
      "source": [
        "# first, we create a function that turns our class labels, which are string,\n",
        "# into integers, so we can later use hot end encoding\n",
        "def get_int_class(long_class: str, allow_other: bool = False) -> int:\n",
        "    if long_class == 'Component-Whole(e2,e1)' or long_class == 'Component-Whole(e1,e2)':\n",
        "        return 0\n",
        "    if long_class == 'Instrument-Agency(e2,e1)' or long_class == 'Instrument-Agency(e1  ,e2)':\n",
        "        return 1\n",
        "    if long_class == 'Member-Collection(e1,e2)' or long_class == 'Member-Collection(e2,e1)':\n",
        "        return 2\n",
        "    if long_class == 'Cause-Effect(e2,e1)' or long_class == 'Cause-Effect(e1,e2)':\n",
        "        return 3\n",
        "    if long_class == 'Entity-Destination(e2,e1)' or long_class == 'Entity-Destination(e1,e2)':\n",
        "        return 4\n",
        "    if long_class == 'Content-Container(e2,e1)' or long_class == 'Content-Container(e1,e2)':\n",
        "        return 5\n",
        "    if long_class == 'Message-Topic(e2,e1)' or long_class == 'Message-Topic(e1,e2)':\n",
        "        return 6\n",
        "    if long_class == 'Product-Producer(e2,e1)' or long_class == 'Product-Producer(e1,e2)':\n",
        "        return 7\n",
        "    if long_class == 'Entity-Origin(e2,e1)' or long_class == 'Entity-Origin(e1,e2)':\n",
        "        return 8\n",
        "    if long_class == 'Other':\n",
        "        if allow_other:\n",
        "          return 9\n",
        "\n",
        "def purify_sentence(sentence: str) -> str:\n",
        "  return re.sub(r\"</?e[12]>\", \"\", sentence)\n",
        "\n",
        "semeval_tuples = list()\n",
        "temp_tuple = dict()\n",
        "with open('TRAIN_FILE.TXT', 'r') as file:\n",
        "    for index, line in enumerate(file.readlines()):\n",
        "      # the documents is structured in blocks of 4 lines each so we use % 4\n",
        "      if index % 4 == 0:\n",
        "        regex_results = re.search(r\"\\\"(.*)\\\"\", line.strip())\n",
        "        if regex_results:\n",
        "          sentence = regex_results.group(1)\n",
        "          temp_tuple['sentence'] = purify_sentence(sentence)\n",
        "      if index % 4 == 1:\n",
        "        temp_tuple['label'] = get_int_class(line.strip(), allow_other=False)\n",
        "      if index % 4 == 2:\n",
        "        semeval_tuples.append(temp_tuple)\n",
        "        temp_tuple = dict()\n",
        "\n",
        "df = pd.DataFrame(semeval_tuples)\n",
        "df = df.dropna()"
      ],
      "metadata": {
        "id": "U2wcIVAzTjO5"
      },
      "execution_count": 25,
      "outputs": []
    },
    {
      "cell_type": "code",
      "source": [
        "df.head()"
      ],
      "metadata": {
        "colab": {
          "base_uri": "https://localhost:8080/",
          "height": 206
        },
        "id": "PwiADR_OBMLy",
        "outputId": "c62de348-9631-4955-dd69-c17895e6e33f"
      },
      "execution_count": 26,
      "outputs": [
        {
          "output_type": "execute_result",
          "data": {
            "text/plain": [
              "                                            sentence  label\n",
              "0  The system as described above has its greatest...    0.0\n",
              "2  The author of a keygen uses a disassembler to ...    1.0\n",
              "4  The student association is the voice of the un...    2.0\n",
              "6  The current view is that the chronic inflammat...    3.0\n",
              "7        People have been moving back into downtown.    4.0"
            ],
            "text/html": [
              "\n",
              "  <div id=\"df-9bb624e1-1a2d-44ff-8ce1-0900eb2369d3\" class=\"colab-df-container\">\n",
              "    <div>\n",
              "<style scoped>\n",
              "    .dataframe tbody tr th:only-of-type {\n",
              "        vertical-align: middle;\n",
              "    }\n",
              "\n",
              "    .dataframe tbody tr th {\n",
              "        vertical-align: top;\n",
              "    }\n",
              "\n",
              "    .dataframe thead th {\n",
              "        text-align: right;\n",
              "    }\n",
              "</style>\n",
              "<table border=\"1\" class=\"dataframe\">\n",
              "  <thead>\n",
              "    <tr style=\"text-align: right;\">\n",
              "      <th></th>\n",
              "      <th>sentence</th>\n",
              "      <th>label</th>\n",
              "    </tr>\n",
              "  </thead>\n",
              "  <tbody>\n",
              "    <tr>\n",
              "      <th>0</th>\n",
              "      <td>The system as described above has its greatest...</td>\n",
              "      <td>0.0</td>\n",
              "    </tr>\n",
              "    <tr>\n",
              "      <th>2</th>\n",
              "      <td>The author of a keygen uses a disassembler to ...</td>\n",
              "      <td>1.0</td>\n",
              "    </tr>\n",
              "    <tr>\n",
              "      <th>4</th>\n",
              "      <td>The student association is the voice of the un...</td>\n",
              "      <td>2.0</td>\n",
              "    </tr>\n",
              "    <tr>\n",
              "      <th>6</th>\n",
              "      <td>The current view is that the chronic inflammat...</td>\n",
              "      <td>3.0</td>\n",
              "    </tr>\n",
              "    <tr>\n",
              "      <th>7</th>\n",
              "      <td>People have been moving back into downtown.</td>\n",
              "      <td>4.0</td>\n",
              "    </tr>\n",
              "  </tbody>\n",
              "</table>\n",
              "</div>\n",
              "    <div class=\"colab-df-buttons\">\n",
              "\n",
              "  <div class=\"colab-df-container\">\n",
              "    <button class=\"colab-df-convert\" onclick=\"convertToInteractive('df-9bb624e1-1a2d-44ff-8ce1-0900eb2369d3')\"\n",
              "            title=\"Convert this dataframe to an interactive table.\"\n",
              "            style=\"display:none;\">\n",
              "\n",
              "  <svg xmlns=\"http://www.w3.org/2000/svg\" height=\"24px\" viewBox=\"0 -960 960 960\">\n",
              "    <path d=\"M120-120v-720h720v720H120Zm60-500h600v-160H180v160Zm220 220h160v-160H400v160Zm0 220h160v-160H400v160ZM180-400h160v-160H180v160Zm440 0h160v-160H620v160ZM180-180h160v-160H180v160Zm440 0h160v-160H620v160Z\"/>\n",
              "  </svg>\n",
              "    </button>\n",
              "\n",
              "  <style>\n",
              "    .colab-df-container {\n",
              "      display:flex;\n",
              "      gap: 12px;\n",
              "    }\n",
              "\n",
              "    .colab-df-convert {\n",
              "      background-color: #E8F0FE;\n",
              "      border: none;\n",
              "      border-radius: 50%;\n",
              "      cursor: pointer;\n",
              "      display: none;\n",
              "      fill: #1967D2;\n",
              "      height: 32px;\n",
              "      padding: 0 0 0 0;\n",
              "      width: 32px;\n",
              "    }\n",
              "\n",
              "    .colab-df-convert:hover {\n",
              "      background-color: #E2EBFA;\n",
              "      box-shadow: 0px 1px 2px rgba(60, 64, 67, 0.3), 0px 1px 3px 1px rgba(60, 64, 67, 0.15);\n",
              "      fill: #174EA6;\n",
              "    }\n",
              "\n",
              "    .colab-df-buttons div {\n",
              "      margin-bottom: 4px;\n",
              "    }\n",
              "\n",
              "    [theme=dark] .colab-df-convert {\n",
              "      background-color: #3B4455;\n",
              "      fill: #D2E3FC;\n",
              "    }\n",
              "\n",
              "    [theme=dark] .colab-df-convert:hover {\n",
              "      background-color: #434B5C;\n",
              "      box-shadow: 0px 1px 3px 1px rgba(0, 0, 0, 0.15);\n",
              "      filter: drop-shadow(0px 1px 2px rgba(0, 0, 0, 0.3));\n",
              "      fill: #FFFFFF;\n",
              "    }\n",
              "  </style>\n",
              "\n",
              "    <script>\n",
              "      const buttonEl =\n",
              "        document.querySelector('#df-9bb624e1-1a2d-44ff-8ce1-0900eb2369d3 button.colab-df-convert');\n",
              "      buttonEl.style.display =\n",
              "        google.colab.kernel.accessAllowed ? 'block' : 'none';\n",
              "\n",
              "      async function convertToInteractive(key) {\n",
              "        const element = document.querySelector('#df-9bb624e1-1a2d-44ff-8ce1-0900eb2369d3');\n",
              "        const dataTable =\n",
              "          await google.colab.kernel.invokeFunction('convertToInteractive',\n",
              "                                                    [key], {});\n",
              "        if (!dataTable) return;\n",
              "\n",
              "        const docLinkHtml = 'Like what you see? Visit the ' +\n",
              "          '<a target=\"_blank\" href=https://colab.research.google.com/notebooks/data_table.ipynb>data table notebook</a>'\n",
              "          + ' to learn more about interactive tables.';\n",
              "        element.innerHTML = '';\n",
              "        dataTable['output_type'] = 'display_data';\n",
              "        await google.colab.output.renderOutput(dataTable, element);\n",
              "        const docLink = document.createElement('div');\n",
              "        docLink.innerHTML = docLinkHtml;\n",
              "        element.appendChild(docLink);\n",
              "      }\n",
              "    </script>\n",
              "  </div>\n",
              "\n",
              "\n",
              "<div id=\"df-6600dac6-8494-43b7-a5f5-766c0ea39dec\">\n",
              "  <button class=\"colab-df-quickchart\" onclick=\"quickchart('df-6600dac6-8494-43b7-a5f5-766c0ea39dec')\"\n",
              "            title=\"Suggest charts\"\n",
              "            style=\"display:none;\">\n",
              "\n",
              "<svg xmlns=\"http://www.w3.org/2000/svg\" height=\"24px\"viewBox=\"0 0 24 24\"\n",
              "     width=\"24px\">\n",
              "    <g>\n",
              "        <path d=\"M19 3H5c-1.1 0-2 .9-2 2v14c0 1.1.9 2 2 2h14c1.1 0 2-.9 2-2V5c0-1.1-.9-2-2-2zM9 17H7v-7h2v7zm4 0h-2V7h2v10zm4 0h-2v-4h2v4z\"/>\n",
              "    </g>\n",
              "</svg>\n",
              "  </button>\n",
              "\n",
              "<style>\n",
              "  .colab-df-quickchart {\n",
              "      --bg-color: #E8F0FE;\n",
              "      --fill-color: #1967D2;\n",
              "      --hover-bg-color: #E2EBFA;\n",
              "      --hover-fill-color: #174EA6;\n",
              "      --disabled-fill-color: #AAA;\n",
              "      --disabled-bg-color: #DDD;\n",
              "  }\n",
              "\n",
              "  [theme=dark] .colab-df-quickchart {\n",
              "      --bg-color: #3B4455;\n",
              "      --fill-color: #D2E3FC;\n",
              "      --hover-bg-color: #434B5C;\n",
              "      --hover-fill-color: #FFFFFF;\n",
              "      --disabled-bg-color: #3B4455;\n",
              "      --disabled-fill-color: #666;\n",
              "  }\n",
              "\n",
              "  .colab-df-quickchart {\n",
              "    background-color: var(--bg-color);\n",
              "    border: none;\n",
              "    border-radius: 50%;\n",
              "    cursor: pointer;\n",
              "    display: none;\n",
              "    fill: var(--fill-color);\n",
              "    height: 32px;\n",
              "    padding: 0;\n",
              "    width: 32px;\n",
              "  }\n",
              "\n",
              "  .colab-df-quickchart:hover {\n",
              "    background-color: var(--hover-bg-color);\n",
              "    box-shadow: 0 1px 2px rgba(60, 64, 67, 0.3), 0 1px 3px 1px rgba(60, 64, 67, 0.15);\n",
              "    fill: var(--button-hover-fill-color);\n",
              "  }\n",
              "\n",
              "  .colab-df-quickchart-complete:disabled,\n",
              "  .colab-df-quickchart-complete:disabled:hover {\n",
              "    background-color: var(--disabled-bg-color);\n",
              "    fill: var(--disabled-fill-color);\n",
              "    box-shadow: none;\n",
              "  }\n",
              "\n",
              "  .colab-df-spinner {\n",
              "    border: 2px solid var(--fill-color);\n",
              "    border-color: transparent;\n",
              "    border-bottom-color: var(--fill-color);\n",
              "    animation:\n",
              "      spin 1s steps(1) infinite;\n",
              "  }\n",
              "\n",
              "  @keyframes spin {\n",
              "    0% {\n",
              "      border-color: transparent;\n",
              "      border-bottom-color: var(--fill-color);\n",
              "      border-left-color: var(--fill-color);\n",
              "    }\n",
              "    20% {\n",
              "      border-color: transparent;\n",
              "      border-left-color: var(--fill-color);\n",
              "      border-top-color: var(--fill-color);\n",
              "    }\n",
              "    30% {\n",
              "      border-color: transparent;\n",
              "      border-left-color: var(--fill-color);\n",
              "      border-top-color: var(--fill-color);\n",
              "      border-right-color: var(--fill-color);\n",
              "    }\n",
              "    40% {\n",
              "      border-color: transparent;\n",
              "      border-right-color: var(--fill-color);\n",
              "      border-top-color: var(--fill-color);\n",
              "    }\n",
              "    60% {\n",
              "      border-color: transparent;\n",
              "      border-right-color: var(--fill-color);\n",
              "    }\n",
              "    80% {\n",
              "      border-color: transparent;\n",
              "      border-right-color: var(--fill-color);\n",
              "      border-bottom-color: var(--fill-color);\n",
              "    }\n",
              "    90% {\n",
              "      border-color: transparent;\n",
              "      border-bottom-color: var(--fill-color);\n",
              "    }\n",
              "  }\n",
              "</style>\n",
              "\n",
              "  <script>\n",
              "    async function quickchart(key) {\n",
              "      const quickchartButtonEl =\n",
              "        document.querySelector('#' + key + ' button');\n",
              "      quickchartButtonEl.disabled = true;  // To prevent multiple clicks.\n",
              "      quickchartButtonEl.classList.add('colab-df-spinner');\n",
              "      try {\n",
              "        const charts = await google.colab.kernel.invokeFunction(\n",
              "            'suggestCharts', [key], {});\n",
              "      } catch (error) {\n",
              "        console.error('Error during call to suggestCharts:', error);\n",
              "      }\n",
              "      quickchartButtonEl.classList.remove('colab-df-spinner');\n",
              "      quickchartButtonEl.classList.add('colab-df-quickchart-complete');\n",
              "    }\n",
              "    (() => {\n",
              "      let quickchartButtonEl =\n",
              "        document.querySelector('#df-6600dac6-8494-43b7-a5f5-766c0ea39dec button');\n",
              "      quickchartButtonEl.style.display =\n",
              "        google.colab.kernel.accessAllowed ? 'block' : 'none';\n",
              "    })();\n",
              "  </script>\n",
              "</div>\n",
              "    </div>\n",
              "  </div>\n"
            ],
            "application/vnd.google.colaboratory.intrinsic+json": {
              "type": "dataframe",
              "variable_name": "df",
              "summary": "{\n  \"name\": \"df\",\n  \"rows\": 6493,\n  \"fields\": [\n    {\n      \"column\": \"sentence\",\n      \"properties\": {\n        \"dtype\": \"string\",\n        \"num_unique_values\": 6476,\n        \"samples\": [\n          \"Over the years a sound stud of homogenous brood mares has developed.\",\n          \"On Saturday in California a suitcase was discovered inside a trash receptacle with a corpse stuffed inside of it.\",\n          \"The only light in the house was radiating from the TV screen.\"\n        ],\n        \"semantic_type\": \"\",\n        \"description\": \"\"\n      }\n    },\n    {\n      \"column\": \"label\",\n      \"properties\": {\n        \"dtype\": \"number\",\n        \"std\": 2.586198932833188,\n        \"min\": 0.0,\n        \"max\": 8.0,\n        \"num_unique_values\": 9,\n        \"samples\": [\n          7.0,\n          1.0,\n          5.0\n        ],\n        \"semantic_type\": \"\",\n        \"description\": \"\"\n      }\n    }\n  ]\n}"
            }
          },
          "metadata": {},
          "execution_count": 26
        }
      ]
    },
    {
      "cell_type": "code",
      "source": [
        "# we make a 60 / 20 / 20 split for training, validation and testing data\n",
        "train, val, test = np.split(df.sample(frac=1), [(int(0.6 * len(df))), (int(0.8 * len(df)))])"
      ],
      "metadata": {
        "id": "GHHtjyp6XPm3"
      },
      "execution_count": 27,
      "outputs": []
    },
    {
      "cell_type": "code",
      "source": [
        "# function to convert pandas dataframe into tensorflow dataset\n",
        "def df_to_dataset(dataframe, shuffle=False, batch_size=32):\n",
        "  df = dataframe.copy()\n",
        "  labels = df.pop('label')\n",
        "  # Convert the labels to one-hot encoding\n",
        "  labels = tf.one_hot(labels, depth=9)\n",
        "  df = df['sentence']\n",
        "  ds = tf.data.Dataset.from_tensor_slices((df, labels))\n",
        "  if shuffle:\n",
        "    ds = ds.shuffle(buffer_size=len(dataframe))\n",
        "  ds = ds.batch(batch_size)\n",
        "  ds = ds.prefetch(tf.data.AUTOTUNE)\n",
        "  return ds"
      ],
      "metadata": {
        "id": "yLO1T5hd_yvr"
      },
      "execution_count": 28,
      "outputs": []
    },
    {
      "cell_type": "code",
      "source": [
        "train_data = df_to_dataset(train)\n",
        "valid_data = df_to_dataset(val)\n",
        "test_data = df_to_dataset(test)"
      ],
      "metadata": {
        "id": "DI-6X-l6BfUR"
      },
      "execution_count": 29,
      "outputs": []
    },
    {
      "cell_type": "markdown",
      "source": [
        "#### Model and embeddings"
      ],
      "metadata": {
        "id": "6cltNp70DLJ6"
      }
    },
    {
      "cell_type": "code",
      "source": [
        "# we use a embedder trained on a 7B word corpus\n",
        "embedding = 'https://tfhub.dev/google/nnlm-en-dim50/2'\n",
        "hub_layer = hub.KerasLayer(embedding, dtype=tf.string, trainable=True)"
      ],
      "metadata": {
        "id": "QtYT29ptB5Iz"
      },
      "execution_count": 30,
      "outputs": []
    },
    {
      "cell_type": "markdown",
      "source": [],
      "metadata": {
        "id": "UJ8QqEcYA5da"
      }
    },
    {
      "cell_type": "code",
      "source": [
        "model = tf.keras.Sequential()\n",
        "model.add(hub_layer)\n",
        "model.add(tf.keras.layers.Dense(16, activation='relu'))\n",
        "model.add(tf.keras.layers.Dense(16, activation='relu'))\n",
        "model.add(tf.keras.layers.Dense(9, activation='softmax'))"
      ],
      "metadata": {
        "id": "9zkFCb50GB5i"
      },
      "execution_count": 31,
      "outputs": []
    },
    {
      "cell_type": "code",
      "source": [
        "model.compile(optimizer=tf.keras.optimizers.Adam(learning_rate=0.001),\n",
        "              loss=tf.keras.losses.CategoricalCrossentropy(),\n",
        "              metrics=['accuracy'])"
      ],
      "metadata": {
        "id": "BlfqAQsvKEEv"
      },
      "execution_count": 32,
      "outputs": []
    },
    {
      "cell_type": "code",
      "source": [
        "model.evaluate(valid_data)"
      ],
      "metadata": {
        "colab": {
          "base_uri": "https://localhost:8080/"
        },
        "id": "g7cK2P6gKT_X",
        "outputId": "73f53804-3376-47e4-b09e-56293a9d4b0f"
      },
      "execution_count": 33,
      "outputs": [
        {
          "output_type": "stream",
          "name": "stdout",
          "text": [
            "41/41 [==============================] - 1s 3ms/step - loss: 2.2081 - accuracy: 0.0831\n"
          ]
        },
        {
          "output_type": "execute_result",
          "data": {
            "text/plain": [
              "[2.2081480026245117, 0.08314087986946106]"
            ]
          },
          "metadata": {},
          "execution_count": 33
        }
      ]
    },
    {
      "cell_type": "code",
      "source": [
        "history = model.fit(train_data, epochs=5, validation_data=valid_data)"
      ],
      "metadata": {
        "colab": {
          "base_uri": "https://localhost:8080/"
        },
        "id": "OJVd15O_Kjov",
        "outputId": "6c6361e5-5753-4fc4-971b-4dcf76f65ebd"
      },
      "execution_count": 34,
      "outputs": [
        {
          "output_type": "stream",
          "name": "stdout",
          "text": [
            "Epoch 1/5\n",
            "122/122 [==============================] - 202s 2s/step - loss: 2.1141 - accuracy: 0.1884 - val_loss: 1.9859 - val_accuracy: 0.2964\n",
            "Epoch 2/5\n",
            "122/122 [==============================] - 197s 2s/step - loss: 1.7020 - accuracy: 0.4567 - val_loss: 1.5332 - val_accuracy: 0.5019\n",
            "Epoch 3/5\n",
            "122/122 [==============================] - 210s 2s/step - loss: 1.0242 - accuracy: 0.7297 - val_loss: 1.2207 - val_accuracy: 0.5935\n",
            "Epoch 4/5\n",
            "122/122 [==============================] - 207s 2s/step - loss: 0.4781 - accuracy: 0.8922 - val_loss: 1.1652 - val_accuracy: 0.6228\n",
            "Epoch 5/5\n",
            "122/122 [==============================] - 206s 2s/step - loss: 0.1912 - accuracy: 0.9674 - val_loss: 1.1940 - val_accuracy: 0.6266\n"
          ]
        }
      ]
    },
    {
      "cell_type": "markdown",
      "source": [
        "Get model performance:"
      ],
      "metadata": {
        "id": "7YPin--ck-Sb"
      }
    },
    {
      "cell_type": "code",
      "source": [
        "model.evaluate(test_data)"
      ],
      "metadata": {
        "colab": {
          "base_uri": "https://localhost:8080/"
        },
        "id": "7d7sE3wXRwns",
        "outputId": "065dfae1-30c5-4741-ab37-fbaa3fd5cc88"
      },
      "execution_count": null,
      "outputs": [
        {
          "output_type": "stream",
          "name": "stdout",
          "text": [
            "41/41 [==============================] - 8s 190ms/step - loss: 1.3867 - accuracy: 0.5851\n"
          ]
        },
        {
          "output_type": "execute_result",
          "data": {
            "text/plain": [
              "[1.3866945505142212, 0.5850654244422913]"
            ]
          },
          "metadata": {},
          "execution_count": 90
        }
      ]
    },
    {
      "cell_type": "code",
      "source": [
        "preds = model.predict(test_data)"
      ],
      "metadata": {
        "colab": {
          "base_uri": "https://localhost:8080/"
        },
        "id": "dk1nys61hTb6",
        "outputId": "0cd938df-e49f-43e0-d003-f966cb675c38"
      },
      "execution_count": null,
      "outputs": [
        {
          "output_type": "stream",
          "name": "stdout",
          "text": [
            "41/41 [==============================] - 7s 169ms/step\n"
          ]
        }
      ]
    },
    {
      "cell_type": "markdown",
      "source": [
        "GET RESULTS AS CSV TO VISUALIZE\n"
      ],
      "metadata": {
        "id": "sfthBfLxvfFr"
      }
    },
    {
      "cell_type": "code",
      "source": [
        "y = np.concatenate([y for x, y in test_data], axis=0)"
      ],
      "metadata": {
        "id": "FFJlnje1hx1X"
      },
      "execution_count": null,
      "outputs": []
    },
    {
      "cell_type": "code",
      "source": [
        "gold_labels = []\n",
        "for _, batch in test_data:\n",
        "  for y in batch:\n",
        "    gold_labels.append(np.argmax(y))\n",
        "\n",
        "predictions = []\n",
        "for _ in preds:\n",
        "  predictions.append(np.argmax(_))"
      ],
      "metadata": {
        "id": "Jf4SuJOLj_q7"
      },
      "execution_count": null,
      "outputs": []
    },
    {
      "cell_type": "code",
      "source": [
        "def get_short_name(label: int) -> str:\n",
        "    if label == 0:\n",
        "        return 'CW'\n",
        "    if label == 1:\n",
        "        return 'IA'\n",
        "    if label == 2:\n",
        "        return 'MC'\n",
        "    if label == 3:\n",
        "        return 'CE'\n",
        "    if label == 4:\n",
        "        return 'ED'\n",
        "    if label == 5:\n",
        "        return 'CC'\n",
        "    if label == 6:\n",
        "        return 'MT'\n",
        "    if label == 7:\n",
        "        return 'PP'\n",
        "    if label == 8:\n",
        "        return 'EO'"
      ],
      "metadata": {
        "id": "JaD2EBknvEG0"
      },
      "execution_count": null,
      "outputs": []
    },
    {
      "cell_type": "code",
      "source": [
        "with open('results.csv', 'a') as f:\n",
        "  for index, (gold, pred) in enumerate(zip(gold_labels, predictions)):\n",
        "    f.write(f\"{index},{get_short_name(gold)},{get_short_name(pred)}\\n\")"
      ],
      "metadata": {
        "id": "3TTU9mspxNkr"
      },
      "execution_count": null,
      "outputs": []
    },
    {
      "cell_type": "markdown",
      "source": [
        "VISUALISE TOKEN IMPORTANCE\n",
        "\n",
        "Sadly we have to do it here in this notebook because saving and loading tf models doesn't work as intended."
      ],
      "metadata": {
        "id": "vCw1wFdigak7"
      }
    },
    {
      "cell_type": "code",
      "source": [
        "from numpy import dot\n",
        "from numpy.linalg import norm"
      ],
      "metadata": {
        "id": "vx0-5lVKgrLh"
      },
      "execution_count": 37,
      "outputs": []
    },
    {
      "cell_type": "code",
      "source": [
        "# Cosinus Ähnlichkeit\n",
        "def get_cosine_sim(A: list[float], B: list[float]) -> float:\n",
        "    return dot(A, B)/(norm(A)*norm(B))\n",
        "\n",
        "# Nimmt einen Satz und gibt einen Array mit Sätzen. Jeder von ihnen hat ein [UNK] Token von links nach rechts.\n",
        "# [MASK] wird nicht zu [UNK] gemapped.\n",
        "def get_sub_sentences(sentence: str) -> list[str]:\n",
        "    sub_sentences = list()\n",
        "    tokens = sentence[:-1].split(' ')\n",
        "\n",
        "    for i in range(len(tokens)):\n",
        "        s = \"\"\n",
        "        for j in range(len(tokens)):\n",
        "            if i == j:\n",
        "                if tokens[j] == '[MASK]':\n",
        "                    s += '[MASK] '\n",
        "                else:\n",
        "                    s += '[UNK] '\n",
        "            else:\n",
        "                s += tokens[j] + ' '\n",
        "\n",
        "        sub_sentences.append(s[:-1] + '.')\n",
        "\n",
        "    return sub_sentences"
      ],
      "metadata": {
        "id": "B6Qcstu_gmoL"
      },
      "execution_count": 38,
      "outputs": []
    },
    {
      "cell_type": "code",
      "source": [
        "# optional: highlighte die Wörter, die mit XML-Tags markiert waren, im Output-Satz\n",
        "# kann leer gelassen werden!\n",
        "orig_sentence = \"The <e1>bacterial aerosol</e1> was generated from an up-draft <e2>nebulizer</e2>.\"\n",
        "\n",
        "xml_indices = []\n",
        "for index, token in enumerate(orig_sentence.split(' ')):\n",
        "    if re.search('<e[12]>.*</e[12]>', token):\n",
        "        xml_indices.append(index)"
      ],
      "metadata": {
        "id": "Y9cdxDGdgw8B"
      },
      "execution_count": 39,
      "outputs": []
    },
    {
      "cell_type": "code",
      "source": [
        "# Gib hier den Satz an, fuer dessen Klassenvorhersage die Token wichtigkeiten berechnet werden sollen.\n",
        "sentence = \"The bacterial aerosol was generated from an up-draft nebulizer.\"\n",
        "# Vorhersage für den originalen Satz\n",
        "sub_sentences = get_sub_sentences(sentence)"
      ],
      "metadata": {
        "id": "xXkf_FRkgyTJ"
      },
      "execution_count": 43,
      "outputs": []
    },
    {
      "cell_type": "code",
      "source": [
        "sub_tuples = [{ 'sentence': sentence, 'label': -1 }]\n",
        "for sub in sub_sentences:\n",
        "  sub_tuples.append({'sentence': sub, 'label': -1 })"
      ],
      "metadata": {
        "id": "AFKVOoAZhjsb"
      },
      "execution_count": 46,
      "outputs": []
    },
    {
      "cell_type": "code",
      "source": [
        "df_sub = pd.DataFrame(sub_tuples)"
      ],
      "metadata": {
        "id": "5ew1m6_5iJI4"
      },
      "execution_count": 51,
      "outputs": []
    },
    {
      "cell_type": "code",
      "source": [
        "sub_data = df_to_dataset(df_sub)"
      ],
      "metadata": {
        "id": "W_KP03GAiUhn"
      },
      "execution_count": 52,
      "outputs": []
    },
    {
      "cell_type": "code",
      "source": [
        "sub_preds = model.predict(sub_data)"
      ],
      "metadata": {
        "colab": {
          "base_uri": "https://localhost:8080/"
        },
        "id": "tdPlB2oUihBz",
        "outputId": "ea4a29c2-99d6-4554-b955-2834c25bf993"
      },
      "execution_count": 55,
      "outputs": [
        {
          "output_type": "stream",
          "name": "stdout",
          "text": [
            "1/1 [==============================] - 1s 855ms/step\n"
          ]
        }
      ]
    },
    {
      "cell_type": "code",
      "source": [
        "# prediction for sentence with all tokens\n",
        "pred_full_sentence = sub_preds[0]\n",
        "\n",
        "# predictions for sentences with [UNK] tokens\n",
        "pred_sub_sentences = sub_preds[1:]"
      ],
      "metadata": {
        "id": "EqUl-eiMi0Os"
      },
      "execution_count": 57,
      "outputs": []
    },
    {
      "cell_type": "code",
      "source": [
        "cosine_similarities = []\n",
        "for p in pred_sub_sentences:\n",
        "    cosine_similarities.append(get_cosine_sim(p, pred_full_sentence))"
      ],
      "metadata": {
        "id": "NXNkSWN2i_wT"
      },
      "execution_count": 62,
      "outputs": []
    },
    {
      "cell_type": "code",
      "source": [
        "# Berechne min und max\n",
        "X_min = min(cosine_similarities)\n",
        "X_max = max(cosine_similarities)\n",
        "\n",
        "# Cosinusaehnlichkeiten skalieren\n",
        "scaled_similarities = [(x - X_min) / (X_max - X_min) for x in cosine_similarities]"
      ],
      "metadata": {
        "id": "ocNRVx4sjlFX"
      },
      "execution_count": 64,
      "outputs": []
    },
    {
      "cell_type": "code",
      "source": [
        "# HTML output erstellen und rendern\n",
        "from IPython.display import HTML\n",
        "\n",
        "STR = \"<div style='display: flex; flex-direction: row; font-size: xx-large; '>\"\n",
        "for index, token in enumerate(sentence[:-1].split(' ')):\n",
        "    STR += f\"<div style='color: rgb(255, {scaled_similarities[index] * 255}, {scaled_similarities[index] * 255})'>{token}&nbsp</div>\"\n",
        "STR = STR[:-11] + \"</div>.</div>\"\n",
        "\n",
        "HTML(STR)"
      ],
      "metadata": {
        "colab": {
          "base_uri": "https://localhost:8080/",
          "height": 57
        },
        "id": "lMBLnAwxjsou",
        "outputId": "b0052f28-326e-4448-eb8c-7d1860a81194"
      },
      "execution_count": 65,
      "outputs": [
        {
          "output_type": "execute_result",
          "data": {
            "text/plain": [
              "<IPython.core.display.HTML object>"
            ],
            "text/html": [
              "<div style='display: flex; flex-direction: row; font-size: xx-large; '><div style='color: rgb(255, 255.0, 255.0)'>The&nbsp</div><div style='color: rgb(255, 117.83307552337646, 117.83307552337646)'>bacterial&nbsp</div><div style='color: rgb(255, 188.36501240730286, 188.36501240730286)'>aerosol&nbsp</div><div style='color: rgb(255, 251.56712740659714, 251.56712740659714)'>was&nbsp</div><div style='color: rgb(255, 0.0, 0.0)'>generated&nbsp</div><div style='color: rgb(255, 129.361489713192, 129.361489713192)'>from&nbsp</div><div style='color: rgb(255, 245.4873776435852, 245.4873776435852)'>an&nbsp</div><div style='color: rgb(255, 234.42840546369553, 234.42840546369553)'>up-draft&nbsp</div><div style='color: rgb(255, 231.57480418682098, 231.57480418682098)'>nebulizer</div>.</div>"
            ]
          },
          "metadata": {},
          "execution_count": 65
        }
      ]
    }
  ]
}